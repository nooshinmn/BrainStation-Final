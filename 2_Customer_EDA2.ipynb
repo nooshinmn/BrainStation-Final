{
 "cells": [
  {
   "cell_type": "markdown",
   "id": "40381354",
   "metadata": {},
   "source": [
    "### Capstone _ H&M Recommendation System _ Nooshin Mollazadeh"
   ]
  },
  {
   "attachments": {},
   "cell_type": "markdown",
   "id": "d7c82b85",
   "metadata": {},
   "source": [
    "*** In this NoteBook We are going to do some Data Analysis on the Customer dataset."
   ]
  },
  {
   "cell_type": "markdown",
   "id": "ec3eaa1a",
   "metadata": {},
   "source": [
    "# Customer Table:"
   ]
  },
  {
   "cell_type": "code",
   "execution_count": 41,
   "id": "155cda59",
   "metadata": {},
   "outputs": [],
   "source": [
    "#Loading the customer table\n",
    "customer=pd.read_csv('C:/Users/molla/Capstone/customer-main.csv')"
   ]
  },
  {
   "cell_type": "code",
   "execution_count": 42,
   "id": "d89ea1b3",
   "metadata": {
    "scrolled": false
   },
   "outputs": [
    {
     "data": {
      "text/html": [
       "<div>\n",
       "<style scoped>\n",
       "    .dataframe tbody tr th:only-of-type {\n",
       "        vertical-align: middle;\n",
       "    }\n",
       "\n",
       "    .dataframe tbody tr th {\n",
       "        vertical-align: top;\n",
       "    }\n",
       "\n",
       "    .dataframe thead th {\n",
       "        text-align: right;\n",
       "    }\n",
       "</style>\n",
       "<table border=\"1\" class=\"dataframe\">\n",
       "  <thead>\n",
       "    <tr style=\"text-align: right;\">\n",
       "      <th></th>\n",
       "      <th>customer_id</th>\n",
       "      <th>FN</th>\n",
       "      <th>Active</th>\n",
       "      <th>club_member_status</th>\n",
       "      <th>fashion_news_frequency</th>\n",
       "      <th>age</th>\n",
       "      <th>postal_code</th>\n",
       "    </tr>\n",
       "  </thead>\n",
       "  <tbody>\n",
       "    <tr>\n",
       "      <th>0</th>\n",
       "      <td>00000dbacae5abe5e23885899a1fa44253a17956c6d1c3...</td>\n",
       "      <td>NaN</td>\n",
       "      <td>NaN</td>\n",
       "      <td>ACTIVE</td>\n",
       "      <td>NONE</td>\n",
       "      <td>49.0</td>\n",
       "      <td>52043ee2162cf5aa7ee79974281641c6f11a68d276429a...</td>\n",
       "    </tr>\n",
       "    <tr>\n",
       "      <th>1</th>\n",
       "      <td>0000423b00ade91418cceaf3b26c6af3dd342b51fd051e...</td>\n",
       "      <td>NaN</td>\n",
       "      <td>NaN</td>\n",
       "      <td>ACTIVE</td>\n",
       "      <td>NONE</td>\n",
       "      <td>25.0</td>\n",
       "      <td>2973abc54daa8a5f8ccfe9362140c63247c5eee03f1d93...</td>\n",
       "    </tr>\n",
       "    <tr>\n",
       "      <th>2</th>\n",
       "      <td>000058a12d5b43e67d225668fa1f8d618c13dc232df0ca...</td>\n",
       "      <td>NaN</td>\n",
       "      <td>NaN</td>\n",
       "      <td>ACTIVE</td>\n",
       "      <td>NONE</td>\n",
       "      <td>24.0</td>\n",
       "      <td>64f17e6a330a85798e4998f62d0930d14db8db1c054af6...</td>\n",
       "    </tr>\n",
       "    <tr>\n",
       "      <th>3</th>\n",
       "      <td>00005ca1c9ed5f5146b52ac8639a40ca9d57aeff4d1bd2...</td>\n",
       "      <td>NaN</td>\n",
       "      <td>NaN</td>\n",
       "      <td>ACTIVE</td>\n",
       "      <td>NONE</td>\n",
       "      <td>54.0</td>\n",
       "      <td>5d36574f52495e81f019b680c843c443bd343d5ca5b1c2...</td>\n",
       "    </tr>\n",
       "    <tr>\n",
       "      <th>4</th>\n",
       "      <td>00006413d8573cd20ed7128e53b7b13819fe5cfc2d801f...</td>\n",
       "      <td>1.0</td>\n",
       "      <td>1.0</td>\n",
       "      <td>ACTIVE</td>\n",
       "      <td>Regularly</td>\n",
       "      <td>52.0</td>\n",
       "      <td>25fa5ddee9aac01b35208d01736e57942317d756b32ddd...</td>\n",
       "    </tr>\n",
       "  </tbody>\n",
       "</table>\n",
       "</div>"
      ],
      "text/plain": [
       "                                         customer_id   FN  Active  \\\n",
       "0  00000dbacae5abe5e23885899a1fa44253a17956c6d1c3...  NaN     NaN   \n",
       "1  0000423b00ade91418cceaf3b26c6af3dd342b51fd051e...  NaN     NaN   \n",
       "2  000058a12d5b43e67d225668fa1f8d618c13dc232df0ca...  NaN     NaN   \n",
       "3  00005ca1c9ed5f5146b52ac8639a40ca9d57aeff4d1bd2...  NaN     NaN   \n",
       "4  00006413d8573cd20ed7128e53b7b13819fe5cfc2d801f...  1.0     1.0   \n",
       "\n",
       "  club_member_status fashion_news_frequency   age  \\\n",
       "0             ACTIVE                   NONE  49.0   \n",
       "1             ACTIVE                   NONE  25.0   \n",
       "2             ACTIVE                   NONE  24.0   \n",
       "3             ACTIVE                   NONE  54.0   \n",
       "4             ACTIVE              Regularly  52.0   \n",
       "\n",
       "                                         postal_code  \n",
       "0  52043ee2162cf5aa7ee79974281641c6f11a68d276429a...  \n",
       "1  2973abc54daa8a5f8ccfe9362140c63247c5eee03f1d93...  \n",
       "2  64f17e6a330a85798e4998f62d0930d14db8db1c054af6...  \n",
       "3  5d36574f52495e81f019b680c843c443bd343d5ca5b1c2...  \n",
       "4  25fa5ddee9aac01b35208d01736e57942317d756b32ddd...  "
      ]
     },
     "execution_count": 42,
     "metadata": {},
     "output_type": "execute_result"
    }
   ],
   "source": [
    "#looking at the head of customer table\n",
    "customer.head()"
   ]
  },
  {
   "cell_type": "code",
   "execution_count": 43,
   "id": "aef2513b",
   "metadata": {},
   "outputs": [
    {
     "data": {
      "text/plain": [
       "(1371980, 7)"
      ]
     },
     "execution_count": 43,
     "metadata": {},
     "output_type": "execute_result"
    }
   ],
   "source": [
    "#Looking at the shape of customer table\n",
    "customer.shape"
   ]
  },
  {
   "cell_type": "markdown",
   "id": "595d0fc1",
   "metadata": {},
   "source": [
    "The customer table has 1,371,980 rows and 7 columns. It means we have 1,371,980 customers."
   ]
  },
  {
   "cell_type": "code",
   "execution_count": 44,
   "id": "b49b2562",
   "metadata": {},
   "outputs": [
    {
     "data": {
      "text/plain": [
       "Index(['customer_id', 'FN', 'Active', 'club_member_status',\n",
       "       'fashion_news_frequency', 'age', 'postal_code'],\n",
       "      dtype='object')"
      ]
     },
     "execution_count": 44,
     "metadata": {},
     "output_type": "execute_result"
    }
   ],
   "source": [
    "#see the columns\n",
    "customer.columns"
   ]
  },
  {
   "cell_type": "markdown",
   "id": "9494369c",
   "metadata": {},
   "source": [
    "- 'customer_id'\n",
    "\n",
    "- 'FN'\n",
    "\n",
    "- 'Active'\n",
    "\n",
    "- 'club_member_status'\n",
    "\n",
    "- 'fashion_news_frequency'\n",
    "\n",
    "- 'age'\n",
    "\n",
    "- 'postal_code'"
   ]
  },
  {
   "cell_type": "code",
   "execution_count": 45,
   "id": "9ca6c2d3",
   "metadata": {
    "scrolled": true
   },
   "outputs": [
    {
     "name": "stdout",
     "output_type": "stream",
     "text": [
      "<class 'pandas.core.frame.DataFrame'>\n",
      "RangeIndex: 1371980 entries, 0 to 1371979\n",
      "Data columns (total 7 columns):\n",
      " #   Column                  Non-Null Count    Dtype  \n",
      "---  ------                  --------------    -----  \n",
      " 0   customer_id             1371980 non-null  object \n",
      " 1   FN                      476930 non-null   float64\n",
      " 2   Active                  464404 non-null   float64\n",
      " 3   club_member_status      1365918 non-null  object \n",
      " 4   fashion_news_frequency  1355971 non-null  object \n",
      " 5   age                     1356119 non-null  float64\n",
      " 6   postal_code             1371980 non-null  object \n",
      "dtypes: float64(3), object(4)\n",
      "memory usage: 73.3+ MB\n"
     ]
    }
   ],
   "source": [
    "#information of the values inside the customer table\n",
    "customer.info()"
   ]
  },
  {
   "cell_type": "markdown",
   "id": "6553bb96",
   "metadata": {},
   "source": [
    "Numerical columns:\n",
    "- FN : Either they recieve fashion news or not\n",
    "- Active : They have active profile or not\n",
    "- age : Age of customer\n",
    "\n",
    "String Columns:\n",
    "- customer_id \n",
    "- club_member_status: Status of customers' club membership\n",
    "- postal_code"
   ]
  },
  {
   "cell_type": "code",
   "execution_count": 46,
   "id": "99cd6ffb",
   "metadata": {
    "scrolled": true
   },
   "outputs": [
    {
     "data": {
      "text/plain": [
       "customer_id                    0\n",
       "FN                        895050\n",
       "Active                    907576\n",
       "club_member_status          6062\n",
       "fashion_news_frequency     16009\n",
       "age                        15861\n",
       "postal_code                    0\n",
       "dtype: int64"
      ]
     },
     "execution_count": 46,
     "metadata": {},
     "output_type": "execute_result"
    }
   ],
   "source": [
    "#looking to the null values in columns\n",
    "customer.isnull().sum()"
   ]
  },
  {
   "cell_type": "markdown",
   "id": "76d9cdfc",
   "metadata": {},
   "source": [
    "There are null values in 5 columns."
   ]
  },
  {
   "cell_type": "code",
   "execution_count": 47,
   "id": "a999067e",
   "metadata": {
    "scrolled": true
   },
   "outputs": [
    {
     "data": {
      "text/plain": [
       "352899"
      ]
     },
     "execution_count": 47,
     "metadata": {},
     "output_type": "execute_result"
    }
   ],
   "source": [
    "customer['postal_code'].nunique()"
   ]
  },
  {
   "cell_type": "markdown",
   "id": "d20e947d",
   "metadata": {},
   "source": [
    "There are 352,899 unique postal codes in the table."
   ]
  },
  {
   "cell_type": "code",
   "execution_count": 48,
   "id": "38109e63",
   "metadata": {},
   "outputs": [
    {
     "data": {
      "text/plain": [
       "0"
      ]
     },
     "execution_count": 48,
     "metadata": {},
     "output_type": "execute_result"
    }
   ],
   "source": [
    "customer.duplicated().sum()"
   ]
  },
  {
   "cell_type": "markdown",
   "id": "cd1d0861",
   "metadata": {},
   "source": [
    "There is no duplicated rows in the dataset."
   ]
  },
  {
   "cell_type": "markdown",
   "id": "fc4055c5",
   "metadata": {},
   "source": [
    "### FN Column:"
   ]
  },
  {
   "cell_type": "code",
   "execution_count": 49,
   "id": "3ae5d3ad",
   "metadata": {
    "scrolled": false
   },
   "outputs": [
    {
     "data": {
      "text/plain": [
       "0           True\n",
       "1           True\n",
       "2           True\n",
       "3           True\n",
       "4          False\n",
       "           ...  \n",
       "1371975     True\n",
       "1371976     True\n",
       "1371977    False\n",
       "1371978    False\n",
       "1371979     True\n",
       "Name: FN, Length: 1371980, dtype: bool"
      ]
     },
     "execution_count": 49,
     "metadata": {},
     "output_type": "execute_result"
    }
   ],
   "source": [
    "customer['FN'].isnull()"
   ]
  },
  {
   "cell_type": "code",
   "execution_count": 50,
   "id": "3255b88f",
   "metadata": {},
   "outputs": [
    {
     "data": {
      "text/plain": [
       "65.23783145526903"
      ]
     },
     "execution_count": 50,
     "metadata": {},
     "output_type": "execute_result"
    }
   ],
   "source": [
    "#percentage of null values in FN column\n",
    "FN_PercentofNulls=100*(customer['FN'].isnull().sum()/customer.shape[0])\n",
    "FN_PercentofNulls"
   ]
  },
  {
   "cell_type": "markdown",
   "id": "82c3accf",
   "metadata": {},
   "source": [
    "65% of the FN column is null."
   ]
  },
  {
   "cell_type": "code",
   "execution_count": 51,
   "id": "4e6da075",
   "metadata": {},
   "outputs": [
    {
     "data": {
      "text/plain": [
       "1.0    476930\n",
       "Name: FN, dtype: int64"
      ]
     },
     "execution_count": 51,
     "metadata": {},
     "output_type": "execute_result"
    }
   ],
   "source": [
    "customer['FN'].value_counts()"
   ]
  },
  {
   "cell_type": "markdown",
   "id": "f32b6f27",
   "metadata": {},
   "source": [
    "By checking FN column which Fashion News we see 895,050 people who chose to not recieve fashion news and 476,930 people who do  recieve fashion news. But we have null values in this volumn which I decide to add null values to the 0 group who do not recieve news because we do not know they recieve or not."
   ]
  },
  {
   "cell_type": "code",
   "execution_count": 52,
   "id": "809de912",
   "metadata": {},
   "outputs": [],
   "source": [
    "#filling null values\n",
    "customer['FN'].fillna(value=0, inplace=True)"
   ]
  },
  {
   "cell_type": "code",
   "execution_count": 53,
   "id": "5e03d331",
   "metadata": {
    "scrolled": true
   },
   "outputs": [
    {
     "data": {
      "text/plain": [
       "0"
      ]
     },
     "execution_count": 53,
     "metadata": {},
     "output_type": "execute_result"
    }
   ],
   "source": [
    "#sanity check\n",
    "customer['FN'].isnull().sum()"
   ]
  },
  {
   "cell_type": "code",
   "execution_count": 54,
   "id": "4af811b5",
   "metadata": {
    "scrolled": true
   },
   "outputs": [
    {
     "data": {
      "text/plain": [
       "0.0    895050\n",
       "1.0    476930\n",
       "Name: FN, dtype: int64"
      ]
     },
     "execution_count": 54,
     "metadata": {},
     "output_type": "execute_result"
    }
   ],
   "source": [
    "customer['FN'].value_counts()"
   ]
  },
  {
   "cell_type": "markdown",
   "id": "eef914fb",
   "metadata": {},
   "source": [
    "### Active Column: "
   ]
  },
  {
   "cell_type": "code",
   "execution_count": 55,
   "id": "f033918d",
   "metadata": {
    "scrolled": true
   },
   "outputs": [
    {
     "data": {
      "text/plain": [
       "1.0    464404\n",
       "Name: Active, dtype: int64"
      ]
     },
     "execution_count": 55,
     "metadata": {},
     "output_type": "execute_result"
    }
   ],
   "source": [
    "#checking the values in Active\n",
    "customer['Active'].value_counts()"
   ]
  },
  {
   "cell_type": "code",
   "execution_count": 56,
   "id": "12587b25",
   "metadata": {},
   "outputs": [
    {
     "data": {
      "text/plain": [
       "66.15081852505138"
      ]
     },
     "execution_count": 56,
     "metadata": {},
     "output_type": "execute_result"
    }
   ],
   "source": [
    "#check the percentage of nulls in this column\n",
    "Active_null_percent=100*(customer['Active'].isnull().sum()/customer.shape[0])\n",
    "Active_null_percent"
   ]
  },
  {
   "cell_type": "markdown",
   "id": "f937a3f8",
   "metadata": {},
   "source": [
    "About 67% of the column does not contain any values There are 464,404 people who has active profiles and the rest with null values we assume they do not have active profiles. We assume that the rest with null values do not have active profile."
   ]
  },
  {
   "cell_type": "code",
   "execution_count": 57,
   "id": "3d4779d5",
   "metadata": {},
   "outputs": [],
   "source": [
    "#Filling the null values\n",
    "customer['Active'].fillna(value=0, inplace=True)"
   ]
  },
  {
   "cell_type": "code",
   "execution_count": 58,
   "id": "53a3d4a4",
   "metadata": {},
   "outputs": [
    {
     "data": {
      "text/plain": [
       "0"
      ]
     },
     "execution_count": 58,
     "metadata": {},
     "output_type": "execute_result"
    }
   ],
   "source": [
    "#sanity check\n",
    "customer['Active'].isnull().sum()"
   ]
  },
  {
   "cell_type": "code",
   "execution_count": 59,
   "id": "8319e7d4",
   "metadata": {
    "scrolled": true
   },
   "outputs": [
    {
     "data": {
      "text/plain": [
       "0.0    907576\n",
       "1.0    464404\n",
       "Name: Active, dtype: int64"
      ]
     },
     "execution_count": 59,
     "metadata": {},
     "output_type": "execute_result"
    }
   ],
   "source": [
    "customer['Active'].value_counts()"
   ]
  },
  {
   "cell_type": "markdown",
   "id": "e648dbc7",
   "metadata": {},
   "source": [
    "### club_member_status:"
   ]
  },
  {
   "cell_type": "code",
   "execution_count": 60,
   "id": "9193ffd3",
   "metadata": {
    "scrolled": true
   },
   "outputs": [
    {
     "data": {
      "text/plain": [
       "ACTIVE        1272491\n",
       "PRE-CREATE      92960\n",
       "LEFT CLUB         467\n",
       "Name: club_member_status, dtype: int64"
      ]
     },
     "execution_count": 60,
     "metadata": {},
     "output_type": "execute_result"
    }
   ],
   "source": [
    "customer['club_member_status'].value_counts()"
   ]
  },
  {
   "cell_type": "markdown",
   "id": "3d5883a7",
   "metadata": {},
   "source": [
    "Active : Customers who are active.\n",
    "\n",
    "PRE-CREATE: Customers who openned an account but not active yet.\n",
    "\n",
    "Left Club: Customers who has left the club."
   ]
  },
  {
   "cell_type": "markdown",
   "id": "1ea5b64e",
   "metadata": {},
   "source": [
    "- 1,272,491 customers has active profile in club.\n",
    "- 92,960 customers are goring to active their profile.\n",
    "- 467 customers left the club."
   ]
  },
  {
   "cell_type": "code",
   "execution_count": 61,
   "id": "698babc0",
   "metadata": {},
   "outputs": [
    {
     "data": {
      "text/plain": [
       "0.44184317555649494"
      ]
     },
     "execution_count": 61,
     "metadata": {},
     "output_type": "execute_result"
    }
   ],
   "source": [
    "#percentage of club_member_status null values\n",
    "club_member_status_null_percent=100*(customer['club_member_status'].isnull().sum()/customer.shape[0])\n",
    "club_member_status_null_percent"
   ]
  },
  {
   "cell_type": "markdown",
   "id": "f053af26",
   "metadata": {},
   "source": [
    "Nearly 0.5% of club_member_status columns has null values."
   ]
  },
  {
   "cell_type": "code",
   "execution_count": 62,
   "id": "a7c6750a",
   "metadata": {},
   "outputs": [],
   "source": [
    "#filling na values\n",
    "customer['club_member_status'].fillna(value='PRE-CREATE', inplace=True)"
   ]
  },
  {
   "cell_type": "code",
   "execution_count": 63,
   "id": "e003f727",
   "metadata": {},
   "outputs": [
    {
     "data": {
      "text/plain": [
       "0"
      ]
     },
     "execution_count": 63,
     "metadata": {},
     "output_type": "execute_result"
    }
   ],
   "source": [
    "#sanity check\n",
    "customer['club_member_status'].isnull().sum()"
   ]
  },
  {
   "cell_type": "code",
   "execution_count": 64,
   "id": "1b52a2d2",
   "metadata": {},
   "outputs": [
    {
     "data": {
      "image/png": "[encoded data removed]",
      "text/plain": [
       "<Figure size 576x432 with 1 Axes>"
      ]
     },
     "metadata": {
      "needs_background": "light"
     },
     "output_type": "display_data"
    }
   ],
   "source": [
    "plt.figure(figsize=(8,6))\n",
    "#plotting a histogram for club member status\n",
    "sns.histplot(data=customer, x='club_member_status',color='darkgreen')\n",
    "\n",
    "#title\n",
    "plt.title('Distribution of club member status for customers')\n",
    "\n",
    "#ylable\n",
    "plt.ylabel('Number of Customers')\n",
    "\n",
    "#I use this plain format because without it it would scale the y axis\n",
    "plt.ticklabel_format(style='plain', axis='y')\n",
    "\n",
    "plt.xticks(fontsize = 10)\n",
    "plt.yticks(fontsize = 10)\n",
    "\n",
    "plt.show()"
   ]
  },
  {
   "cell_type": "markdown",
   "id": "8f5dccbe",
   "metadata": {},
   "source": [
    "### Figure 12:"
   ]
  },
  {
   "cell_type": "markdown",
   "id": "28cad2b9",
   "metadata": {},
   "source": [
    "Most of the customers have active status on club."
   ]
  },
  {
   "cell_type": "markdown",
   "id": "08aedec5",
   "metadata": {},
   "source": [
    "### fashion_news_frequency:"
   ]
  },
  {
   "cell_type": "code",
   "execution_count": 65,
   "id": "c33f802d",
   "metadata": {
    "scrolled": true
   },
   "outputs": [
    {
     "data": {
      "text/plain": [
       "NONE         877711\n",
       "Regularly    477416\n",
       "Monthly         842\n",
       "None              2\n",
       "Name: fashion_news_frequency, dtype: int64"
      ]
     },
     "execution_count": 65,
     "metadata": {},
     "output_type": "execute_result"
    }
   ],
   "source": [
    "#unique values in this column and how many\n",
    "customer['fashion_news_frequency'].value_counts()"
   ]
  },
  {
   "cell_type": "markdown",
   "id": "55ecb756",
   "metadata": {},
   "source": [
    "Customers recieve fashion news Monthly, Regularly or None."
   ]
  },
  {
   "cell_type": "code",
   "execution_count": 66,
   "id": "8bf74846",
   "metadata": {},
   "outputs": [
    {
     "data": {
      "text/plain": [
       "16009"
      ]
     },
     "execution_count": 66,
     "metadata": {},
     "output_type": "execute_result"
    }
   ],
   "source": [
    "customer['fashion_news_frequency'].isnull().sum()"
   ]
  },
  {
   "cell_type": "code",
   "execution_count": 67,
   "id": "bd4b996d",
   "metadata": {},
   "outputs": [
    {
     "data": {
      "text/plain": [
       "1.1668537442236768"
      ]
     },
     "execution_count": 67,
     "metadata": {},
     "output_type": "execute_result"
    }
   ],
   "source": [
    "#percentage of null values\n",
    "fashionnews_null_percent=100*(customer['fashion_news_frequency'].isnull().sum()/customer.shape[0])\n",
    "fashionnews_null_percent"
   ]
  },
  {
   "cell_type": "markdown",
   "id": "38d616a4",
   "metadata": {},
   "source": [
    "There is just 1% of the column that has null values."
   ]
  },
  {
   "cell_type": "code",
   "execution_count": 68,
   "id": "b8d841f8",
   "metadata": {},
   "outputs": [],
   "source": [
    "#filling the nulls with NONE because we do not know about it.\n",
    "customer['fashion_news_frequency'].fillna(value='NONE', inplace=True)"
   ]
  },
  {
   "cell_type": "code",
   "execution_count": 69,
   "id": "fea2c349",
   "metadata": {},
   "outputs": [
    {
     "data": {
      "image/png": "[encoded data removed]",
      "text/plain": [
       "<Figure size 576x432 with 1 Axes>"
      ]
     },
     "metadata": {
      "needs_background": "light"
     },
     "output_type": "display_data"
    }
   ],
   "source": [
    "#look at the count of the fashion news column values using histogram\n",
    "plt.figure(figsize=(8,6))\n",
    "\n",
    "sns.histplot(data=customer, x='fashion_news_frequency', color='orange')\n",
    "\n",
    "plt.title('Distribution of fashion news frequency for customers')\n",
    "\n",
    "plt.ylabel('Number of Customers')\n",
    "\n",
    "plt.xticks(fontsize = 10)\n",
    "plt.yticks(fontsize = 10)\n",
    "\n",
    "\n",
    "plt.show()"
   ]
  },
  {
   "cell_type": "markdown",
   "id": "4e4e14fd",
   "metadata": {},
   "source": [
    "### Figure 13:"
   ]
  },
  {
   "cell_type": "markdown",
   "id": "b766389c",
   "metadata": {},
   "source": [
    "Most of the Customers do not want to recieve fashion news."
   ]
  },
  {
   "cell_type": "code",
   "execution_count": 70,
   "id": "7fa1b787",
   "metadata": {},
   "outputs": [],
   "source": [
    "#combining all the none together\n",
    "customer['fashion_news_frequency'].replace(to_replace='None', value='NONE', inplace=True)"
   ]
  },
  {
   "cell_type": "code",
   "execution_count": 71,
   "id": "5f01c959",
   "metadata": {},
   "outputs": [
    {
     "data": {
      "image/png": "[encoded data removed]",
      "text/plain": [
       "<Figure size 576x432 with 1 Axes>"
      ]
     },
     "metadata": {
      "needs_background": "light"
     },
     "output_type": "display_data"
    }
   ],
   "source": [
    "#look at the count of the fashion news column after combining the none values values using histogram\n",
    "plt.figure(figsize=(8,6))\n",
    "\n",
    "sns.histplot(data=customer, x='fashion_news_frequency')\n",
    "\n",
    "plt.title('Distribution of fashion news frequency for customers')\n",
    "\n",
    "plt.ylabel('Number of Customers')\n",
    "\n",
    "plt.xticks(fontsize = 10)\n",
    "plt.yticks(fontsize = 10)\n",
    "\n",
    "\n",
    "plt.show()"
   ]
  },
  {
   "cell_type": "markdown",
   "id": "41c7253f",
   "metadata": {},
   "source": [
    "### Figure 14:"
   ]
  },
  {
   "cell_type": "markdown",
   "id": "18873865",
   "metadata": {},
   "source": [
    "The great number of customers do not want to recieve fashion news while a very small group recieve it Monthly."
   ]
  },
  {
   "cell_type": "markdown",
   "id": "e8517e85",
   "metadata": {},
   "source": [
    "### Age:"
   ]
  },
  {
   "cell_type": "code",
   "execution_count": 72,
   "id": "299ea518",
   "metadata": {},
   "outputs": [
    {
     "data": {
      "image/png": "[encoded data removed]",
      "text/plain": [
       "<Figure size 432x288 with 1 Axes>"
      ]
     },
     "metadata": {
      "needs_background": "light"
     },
     "output_type": "display_data"
    }
   ],
   "source": [
    "#looking at the frequency of age \n",
    "\n",
    "\n",
    "ax = sns.histplot(data=customer, x='age', bins=50)\n",
    "\n",
    "#calculating mean\n",
    "mean= customer['age'].mean()\n",
    "\n",
    "#drawing mean v line\n",
    "plt.axvline(mean, color='k', linestyle='dashed', linewidth=1, label='mean')\n",
    "\n",
    "#xlabel\n",
    "ax.set_xlabel('Age')\n",
    "\n",
    "plt.title('Distribution of age')\n",
    "plt.xticks(fontsize = 10)\n",
    "plt.yticks(fontsize = 10)\n",
    "\n",
    "plt.show()"
   ]
  },
  {
   "cell_type": "markdown",
   "id": "964208bc",
   "metadata": {},
   "source": [
    "### Figure 15:"
   ]
  },
  {
   "cell_type": "markdown",
   "id": "b1476352",
   "metadata": {},
   "source": [
    "We are going to fill na values in age column with median value."
   ]
  },
  {
   "cell_type": "code",
   "execution_count": 73,
   "id": "0af9886e",
   "metadata": {},
   "outputs": [],
   "source": [
    "#mean\n",
    "mean=customer['age'].mean()\n",
    "\n",
    "#maximum age\n",
    "Max=customer['age'].max()\n",
    "\n",
    "#minimum age\n",
    "Min=customer['age'].min()\n",
    "\n",
    "#median\n",
    "Median = customer['age'].median()\n",
    "\n",
    "#filling na\n",
    "customer['age'].fillna(value=round(Median,2), inplace=True)"
   ]
  },
  {
   "cell_type": "code",
   "execution_count": 74,
   "id": "3b73a080",
   "metadata": {},
   "outputs": [
    {
     "name": "stdout",
     "output_type": "stream",
     "text": [
      "36.386964565794\n",
      "99.0\n",
      "16.0\n"
     ]
    }
   ],
   "source": [
    "print(mean)\n",
    "print(Max)\n",
    "print(Min)"
   ]
  },
  {
   "cell_type": "markdown",
   "id": "8c8fea2a",
   "metadata": {},
   "source": [
    "- The average age of the customers is about 36 year old.\n",
    "- The oldest customer is 99 year old.\n",
    "- The youngest customer is 16 year old."
   ]
  },
  {
   "cell_type": "code",
   "execution_count": 75,
   "id": "45421a7e",
   "metadata": {
    "scrolled": true
   },
   "outputs": [
    {
     "data": {
      "image/png": "[encoded data removed]",
      "text/plain": [
       "<Figure size 432x288 with 1 Axes>"
      ]
     },
     "metadata": {
      "needs_background": "light"
     },
     "output_type": "display_data"
    }
   ],
   "source": [
    "#box plot for age distribution\n",
    "sns.boxplot(x=customer['age'] )\n",
    "\n",
    "plt.xticks(fontsize = 10)\n",
    "\n",
    "plt.title('Age Distribution of customers')\n",
    "\n",
    "plt.show()"
   ]
  },
  {
   "cell_type": "markdown",
   "id": "9920da5e",
   "metadata": {},
   "source": [
    "### Figure 16:"
   ]
  },
  {
   "cell_type": "markdown",
   "id": "0343ea19",
   "metadata": {},
   "source": [
    "The distribution shows the customers' age are mainly between 22 and 45."
   ]
  },
  {
   "cell_type": "markdown",
   "id": "566c7864",
   "metadata": {},
   "source": [
    "***"
   ]
  }
 ],
 "metadata": {
  "kernelspec": {
   "display_name": "Python 3",
   "language": "python",
   "name": "python3"
  },
  "language_info": {
   "codemirror_mode": {
    "name": "ipython",
    "version": 3
   },
   "file_extension": ".py",
   "mimetype": "text/x-python",
   "name": "python",
   "nbconvert_exporter": "python",
   "pygments_lexer": "ipython3",
   "version": "3.10.5 (tags/v3.10.5:f377153, Jun  6 2022, 16:14:13) [MSC v.1929 64 bit (AMD64)]"
  },
  "vscode": {
   "interpreter": {
    "hash": "f70ea307b93d37e9273c14d6a6804590ec76008aeb81b7a9b704a390c4392842"
   }
  }
 },
 "nbformat": 4,
 "nbformat_minor": 5
}
